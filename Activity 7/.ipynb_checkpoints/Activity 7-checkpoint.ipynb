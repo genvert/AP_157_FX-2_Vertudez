{
 "cells": [
  {
   "cell_type": "markdown",
   "id": "51dc72e3",
   "metadata": {},
   "source": [
    "# Activity 7"
   ]
  },
  {
   "cell_type": "code",
   "execution_count": 18,
   "id": "810e61e1",
   "metadata": {},
   "outputs": [],
   "source": [
    "import numpy as np\n",
    "import matplotlib.pyplot as plt"
   ]
  },
  {
   "cell_type": "code",
   "execution_count": 29,
   "id": "6c334db8",
   "metadata": {},
   "outputs": [],
   "source": [
    "def img_norm(img):     # normalize an image\n",
    "    img = img/255      # to avoid int limit error\n",
    "    R = img[:,:,0]\n",
    "    G = img[:,:,1]\n",
    "    B = img[:,:,2]\n",
    "    I = R+G+B\n",
    "    I = np.where(I==0, 10e10, I)  # to avoid dividing by zero (which gives a large number, so set it to a large number already)\n",
    "    R_norm = R/I\n",
    "    G_norm = G/I\n",
    "    B_norm = B/I\n",
    "    img_norm = np.dstack([R_norm,G_norm,B_norm])\n",
    "    return img_norm\n",
    "\n",
    "def gaussian_PDF(img, ROI):\n",
    "    # normalize\n",
    "    img_normed = img_norm(img)\n",
    "    ROI_normed = img_norm(ROI)\n",
    "    \n",
    "    # normalized image values\n",
    "    r = img_normed[:,:,0]\n",
    "    g = img_normed[:,:,1]\n",
    "    \n",
    "    # ROI values\n",
    "    ROI_r = ROI_normed[:,:,0]\n",
    "    ROI_g = ROI_normed[:,:,1]\n",
    "    \n",
    "    # parameters from ROI values\n",
    "    mu_r = np.mean(ROI_r)\n",
    "    mu_g = np.mean(ROI_g)\n",
    "    sigma_r = np.std(ROI_r)\n",
    "    sigma_g = np.std(ROI_g)\n",
    "    \n",
    "    # individual probabality of normalized image to be in red and green space of ROI\n",
    "    gauss_r = 1/(sigma_r*np.sqrt(2*np.pi))*np.exp(-(r-mu_r)**2/(2*sigma_r**2))\n",
    "    gauss_g = 1/(sigma_g*np.sqrt(2*np.pi))*np.exp(-(g-mu_g)**2/(2*sigma_g**2))\n",
    "    \n",
    "    # joint probability\n",
    "    return gauss_r*gauss_g\n",
    "\n",
    "def parametric(img, ROI, thresh):\n",
    "    img_gauss = gaussian_PDF(img, ROI) # get probability of image in ROI\n",
    "\n",
    "    img_mask = img_gauss < thresh   # threshold\n",
    "    r_img = img[:,:,0]*img_mask\n",
    "    g_img = img[:,:,1]*img_mask\n",
    "    b_img = img[:,:,2]*img_mask\n",
    "    img_segmented = np.dstack((r_img,g_img,b_img))\n",
    "\n",
    "    plt.imshow(img_segmented)"
   ]
  },
  {
   "cell_type": "code",
   "execution_count": 35,
   "id": "3b7fa575",
   "metadata": {
    "scrolled": false
   },
   "outputs": [
    {
     "name": "stderr",
     "output_type": "stream",
     "text": [
      "C:\\Users\\genvert\\AppData\\Local\\Temp\\ipykernel_20352\\10164206.py:34: RuntimeWarning: divide by zero encountered in double_scalars\n",
      "  gauss_r = 1/(sigma_r*np.sqrt(2*np.pi))*np.exp(-(r-mu_r)**2/(2*sigma_r**2))\n",
      "C:\\Users\\genvert\\AppData\\Local\\Temp\\ipykernel_20352\\10164206.py:34: RuntimeWarning: divide by zero encountered in true_divide\n",
      "  gauss_r = 1/(sigma_r*np.sqrt(2*np.pi))*np.exp(-(r-mu_r)**2/(2*sigma_r**2))\n",
      "C:\\Users\\genvert\\AppData\\Local\\Temp\\ipykernel_20352\\10164206.py:34: RuntimeWarning: invalid value encountered in true_divide\n",
      "  gauss_r = 1/(sigma_r*np.sqrt(2*np.pi))*np.exp(-(r-mu_r)**2/(2*sigma_r**2))\n",
      "C:\\Users\\genvert\\AppData\\Local\\Temp\\ipykernel_20352\\10164206.py:34: RuntimeWarning: invalid value encountered in multiply\n",
      "  gauss_r = 1/(sigma_r*np.sqrt(2*np.pi))*np.exp(-(r-mu_r)**2/(2*sigma_r**2))\n",
      "C:\\Users\\genvert\\AppData\\Local\\Temp\\ipykernel_20352\\10164206.py:35: RuntimeWarning: divide by zero encountered in double_scalars\n",
      "  gauss_g = 1/(sigma_g*np.sqrt(2*np.pi))*np.exp(-(g-mu_g)**2/(2*sigma_g**2))\n",
      "C:\\Users\\genvert\\AppData\\Local\\Temp\\ipykernel_20352\\10164206.py:35: RuntimeWarning: divide by zero encountered in true_divide\n",
      "  gauss_g = 1/(sigma_g*np.sqrt(2*np.pi))*np.exp(-(g-mu_g)**2/(2*sigma_g**2))\n",
      "C:\\Users\\genvert\\AppData\\Local\\Temp\\ipykernel_20352\\10164206.py:35: RuntimeWarning: invalid value encountered in true_divide\n",
      "  gauss_g = 1/(sigma_g*np.sqrt(2*np.pi))*np.exp(-(g-mu_g)**2/(2*sigma_g**2))\n",
      "C:\\Users\\genvert\\AppData\\Local\\Temp\\ipykernel_20352\\10164206.py:35: RuntimeWarning: invalid value encountered in multiply\n",
      "  gauss_g = 1/(sigma_g*np.sqrt(2*np.pi))*np.exp(-(g-mu_g)**2/(2*sigma_g**2))\n"
     ]
    },
    {
     "data": {
      "text/plain": [
       "array([[nan, nan, nan, ..., nan, nan, nan],\n",
       "       [nan, nan, nan, ..., nan, nan, nan],\n",
       "       [nan, nan, nan, ..., nan, nan, nan],\n",
       "       ...,\n",
       "       [nan, nan, nan, ..., nan, nan, nan],\n",
       "       [nan, nan, nan, ..., nan, nan, nan],\n",
       "       [nan, nan, nan, ..., nan, nan, nan]])"
      ]
     },
     "execution_count": 35,
     "metadata": {},
     "output_type": "execute_result"
    }
   ],
   "source": [
    "sand = plt.imread('sand.jpg')\n",
    "\n",
    "# plt.imshow(img_norm(sand))\n",
    "\n",
    "gaussian_PDF(sand,sand[0:10,0:10,:])"
   ]
  }
 ],
 "metadata": {
  "kernelspec": {
   "display_name": "Python 3 (ipykernel)",
   "language": "python",
   "name": "python3"
  },
  "language_info": {
   "codemirror_mode": {
    "name": "ipython",
    "version": 3
   },
   "file_extension": ".py",
   "mimetype": "text/x-python",
   "name": "python",
   "nbconvert_exporter": "python",
   "pygments_lexer": "ipython3",
   "version": "3.9.13"
  }
 },
 "nbformat": 4,
 "nbformat_minor": 5
}
